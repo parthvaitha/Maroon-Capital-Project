{
 "cells": [
  {
   "cell_type": "code",
   "execution_count": 1,
   "id": "12840e76",
   "metadata": {},
   "outputs": [],
   "source": [
    "import numpy as np\n",
    "import pandas as pd\n",
    "import matplotlib.pyplot as plt"
   ]
  },
  {
   "cell_type": "markdown",
   "id": "0380f602",
   "metadata": {},
   "source": [
    "### Step 1\n",
    "First, I just bring in the data from SPY and VIX. The data is from Feb 11 2007 to Feb 11 2022. It is weekly data that I pulled from Yahoo Finance. I remove the Open, High, Low, Close, and Volume columns, as our strtagey is working with Adj Close data."
   ]
  },
  {
   "cell_type": "code",
   "execution_count": 2,
   "id": "7f21afb7",
   "metadata": {},
   "outputs": [
    {
     "data": {
      "text/html": [
       "<div>\n",
       "<style scoped>\n",
       "    .dataframe tbody tr th:only-of-type {\n",
       "        vertical-align: middle;\n",
       "    }\n",
       "\n",
       "    .dataframe tbody tr th {\n",
       "        vertical-align: top;\n",
       "    }\n",
       "\n",
       "    .dataframe thead th {\n",
       "        text-align: right;\n",
       "    }\n",
       "</style>\n",
       "<table border=\"1\" class=\"dataframe\">\n",
       "  <thead>\n",
       "    <tr style=\"text-align: right;\">\n",
       "      <th></th>\n",
       "      <th>SPY Adj Close</th>\n",
       "    </tr>\n",
       "    <tr>\n",
       "      <th>Date</th>\n",
       "      <th></th>\n",
       "    </tr>\n",
       "  </thead>\n",
       "  <tbody>\n",
       "    <tr>\n",
       "      <th>2007-02-12</th>\n",
       "      <td>108.318275</td>\n",
       "    </tr>\n",
       "    <tr>\n",
       "      <th>2007-02-19</th>\n",
       "      <td>107.998672</td>\n",
       "    </tr>\n",
       "    <tr>\n",
       "      <th>2007-02-26</th>\n",
       "      <td>103.070694</td>\n",
       "    </tr>\n",
       "    <tr>\n",
       "      <th>2007-03-05</th>\n",
       "      <td>104.639046</td>\n",
       "    </tr>\n",
       "    <tr>\n",
       "      <th>2007-03-12</th>\n",
       "      <td>102.966667</td>\n",
       "    </tr>\n",
       "  </tbody>\n",
       "</table>\n",
       "</div>"
      ],
      "text/plain": [
       "            SPY Adj Close\n",
       "Date                     \n",
       "2007-02-12     108.318275\n",
       "2007-02-19     107.998672\n",
       "2007-02-26     103.070694\n",
       "2007-03-05     104.639046\n",
       "2007-03-12     102.966667"
      ]
     },
     "execution_count": 2,
     "metadata": {},
     "output_type": "execute_result"
    }
   ],
   "source": [
    "dfspy = pd.read_csv('SPY.csv',\n",
    "                index_col=0,       # Tell Pandas that the first column should be used as an index\n",
    "                parse_dates=[0]    # Tell Pandas to parse the column at index 0 as dates\n",
    "                )\n",
    "dfspy = dfspy.drop(columns = ['Open', 'High', 'Low', 'Close', 'Volume'])\n",
    "dfspy = dfspy.rename(columns = {'Adj Close' : 'SPY Adj Close'})\n",
    "dfspy.head()"
   ]
  },
  {
   "cell_type": "code",
   "execution_count": 3,
   "id": "e638897f",
   "metadata": {},
   "outputs": [
    {
     "data": {
      "text/html": [
       "<div>\n",
       "<style scoped>\n",
       "    .dataframe tbody tr th:only-of-type {\n",
       "        vertical-align: middle;\n",
       "    }\n",
       "\n",
       "    .dataframe tbody tr th {\n",
       "        vertical-align: top;\n",
       "    }\n",
       "\n",
       "    .dataframe thead th {\n",
       "        text-align: right;\n",
       "    }\n",
       "</style>\n",
       "<table border=\"1\" class=\"dataframe\">\n",
       "  <thead>\n",
       "    <tr style=\"text-align: right;\">\n",
       "      <th></th>\n",
       "      <th>VIX Adj Close</th>\n",
       "    </tr>\n",
       "    <tr>\n",
       "      <th>Date</th>\n",
       "      <th></th>\n",
       "    </tr>\n",
       "  </thead>\n",
       "  <tbody>\n",
       "    <tr>\n",
       "      <th>2007-02-12</th>\n",
       "      <td>10.020000</td>\n",
       "    </tr>\n",
       "    <tr>\n",
       "      <th>2007-02-19</th>\n",
       "      <td>10.580000</td>\n",
       "    </tr>\n",
       "    <tr>\n",
       "      <th>2007-02-26</th>\n",
       "      <td>18.610001</td>\n",
       "    </tr>\n",
       "    <tr>\n",
       "      <th>2007-03-05</th>\n",
       "      <td>14.090000</td>\n",
       "    </tr>\n",
       "    <tr>\n",
       "      <th>2007-03-12</th>\n",
       "      <td>16.790001</td>\n",
       "    </tr>\n",
       "  </tbody>\n",
       "</table>\n",
       "</div>"
      ],
      "text/plain": [
       "            VIX Adj Close\n",
       "Date                     \n",
       "2007-02-12      10.020000\n",
       "2007-02-19      10.580000\n",
       "2007-02-26      18.610001\n",
       "2007-03-05      14.090000\n",
       "2007-03-12      16.790001"
      ]
     },
     "execution_count": 3,
     "metadata": {},
     "output_type": "execute_result"
    }
   ],
   "source": [
    "dfvix = pd.read_csv('^VIX.csv',\n",
    "                index_col=0,       # Tell Pandas that the first column should be used as an index\n",
    "                parse_dates=[0]    # Tell Pandas to parse the column at index 0 as dates\n",
    "                )\n",
    "dfvix = dfvix.drop(columns = ['Open', 'High', 'Low', 'Close', 'Volume'])\n",
    "dfvix = dfvix.rename(columns = {'Adj Close' : 'VIX Adj Close'})\n",
    "dfvix.head()"
   ]
  },
  {
   "cell_type": "markdown",
   "id": "a34404e9",
   "metadata": {},
   "source": [
    "### Step 2\n",
    "I merge the dataframes of SPY and VIX data. I then split the data into a 70-30 split. "
   ]
  },
  {
   "cell_type": "code",
   "execution_count": 4,
   "id": "c88d31a0",
   "metadata": {},
   "outputs": [
    {
     "data": {
      "text/html": [
       "<div>\n",
       "<style scoped>\n",
       "    .dataframe tbody tr th:only-of-type {\n",
       "        vertical-align: middle;\n",
       "    }\n",
       "\n",
       "    .dataframe tbody tr th {\n",
       "        vertical-align: top;\n",
       "    }\n",
       "\n",
       "    .dataframe thead th {\n",
       "        text-align: right;\n",
       "    }\n",
       "</style>\n",
       "<table border=\"1\" class=\"dataframe\">\n",
       "  <thead>\n",
       "    <tr style=\"text-align: right;\">\n",
       "      <th></th>\n",
       "      <th>SPY Adj Close</th>\n",
       "      <th>VIX Adj Close</th>\n",
       "    </tr>\n",
       "    <tr>\n",
       "      <th>Date</th>\n",
       "      <th></th>\n",
       "      <th></th>\n",
       "    </tr>\n",
       "  </thead>\n",
       "  <tbody>\n",
       "    <tr>\n",
       "      <th>2007-02-12</th>\n",
       "      <td>108.318275</td>\n",
       "      <td>10.020000</td>\n",
       "    </tr>\n",
       "    <tr>\n",
       "      <th>2007-02-19</th>\n",
       "      <td>107.998672</td>\n",
       "      <td>10.580000</td>\n",
       "    </tr>\n",
       "    <tr>\n",
       "      <th>2007-02-26</th>\n",
       "      <td>103.070694</td>\n",
       "      <td>18.610001</td>\n",
       "    </tr>\n",
       "    <tr>\n",
       "      <th>2007-03-05</th>\n",
       "      <td>104.639046</td>\n",
       "      <td>14.090000</td>\n",
       "    </tr>\n",
       "    <tr>\n",
       "      <th>2007-03-12</th>\n",
       "      <td>102.966667</td>\n",
       "      <td>16.790001</td>\n",
       "    </tr>\n",
       "  </tbody>\n",
       "</table>\n",
       "</div>"
      ],
      "text/plain": [
       "            SPY Adj Close  VIX Adj Close\n",
       "Date                                    \n",
       "2007-02-12     108.318275      10.020000\n",
       "2007-02-19     107.998672      10.580000\n",
       "2007-02-26     103.070694      18.610001\n",
       "2007-03-05     104.639046      14.090000\n",
       "2007-03-12     102.966667      16.790001"
      ]
     },
     "execution_count": 4,
     "metadata": {},
     "output_type": "execute_result"
    }
   ],
   "source": [
    "df = dfspy.join(dfvix, on='Date')\n",
    "dftrain = df[:(int(0.7*len(df)))]\n",
    "dftest = df[(int(0.7*len(df))):]\n",
    "dftrain.head()"
   ]
  },
  {
   "cell_type": "markdown",
   "id": "ab208f80",
   "metadata": {},
   "source": [
    "### Step 3\n",
    "This is an oversimplified version of the strtaegy planned. I was going to change it to add in the stop-losses and the additional constraints to exiting positions. However, when I tested out a version of this strategy WITHOUT any condition for a short position, we seem to get some interesting results. "
   ]
  },
  {
   "cell_type": "code",
   "execution_count": 5,
   "id": "9c9e406d",
   "metadata": {},
   "outputs": [],
   "source": [
    "def strategy(df_og):\n",
    "    df = df_og.copy()\n",
    "    df['12EMA'] = df['SPY Adj Close'].ewm(span = 12, adjust = False).mean()\n",
    "    df['26EMA'] = df['SPY Adj Close'].ewm(span = 26, adjust = False).mean()\n",
    "    df['MACD'] = df['12EMA'] - df['26EMA']\n",
    "    df['Signal'] = df['MACD'].ewm(span = 9, adjust = False).mean()\n",
    "    df['Position'] = np.where(((df['MACD'] > df['Signal']) &\n",
    "                               ((df['MACD'] < 0) |\n",
    "                                df['VIX Adj Close'] < df['VIX Adj Close'].quantile(0.25))),\n",
    "                             1,0)\n",
    "#     df['Position'] = np.where(((df['MACD'] < df['Signal']) &\n",
    "#                                (df['MACD'] > 0)), -1 , 0)\n",
    "    \n",
    "    df['SPY returns'] = df['SPY Adj Close'].pct_change()\n",
    "    df['P&L'] = df['Position']*df['SPY returns']\n",
    "    return df"
   ]
  },
  {
   "cell_type": "code",
   "execution_count": 6,
   "id": "c8a63d34",
   "metadata": {},
   "outputs": [
    {
     "data": {
      "text/html": [
       "<div>\n",
       "<style scoped>\n",
       "    .dataframe tbody tr th:only-of-type {\n",
       "        vertical-align: middle;\n",
       "    }\n",
       "\n",
       "    .dataframe tbody tr th {\n",
       "        vertical-align: top;\n",
       "    }\n",
       "\n",
       "    .dataframe thead th {\n",
       "        text-align: right;\n",
       "    }\n",
       "</style>\n",
       "<table border=\"1\" class=\"dataframe\">\n",
       "  <thead>\n",
       "    <tr style=\"text-align: right;\">\n",
       "      <th></th>\n",
       "      <th>SPY Adj Close</th>\n",
       "      <th>VIX Adj Close</th>\n",
       "      <th>12EMA</th>\n",
       "      <th>26EMA</th>\n",
       "      <th>MACD</th>\n",
       "      <th>Signal</th>\n",
       "      <th>Position</th>\n",
       "      <th>SPY returns</th>\n",
       "      <th>P&amp;L</th>\n",
       "    </tr>\n",
       "    <tr>\n",
       "      <th>Date</th>\n",
       "      <th></th>\n",
       "      <th></th>\n",
       "      <th></th>\n",
       "      <th></th>\n",
       "      <th></th>\n",
       "      <th></th>\n",
       "      <th></th>\n",
       "      <th></th>\n",
       "      <th></th>\n",
       "    </tr>\n",
       "  </thead>\n",
       "  <tbody>\n",
       "    <tr>\n",
       "      <th>2017-07-10</th>\n",
       "      <td>226.823593</td>\n",
       "      <td>9.51</td>\n",
       "      <td>222.300652</td>\n",
       "      <td>217.590864</td>\n",
       "      <td>4.709787</td>\n",
       "      <td>4.816789</td>\n",
       "      <td>0</td>\n",
       "      <td>0.014249</td>\n",
       "      <td>0.000000</td>\n",
       "    </tr>\n",
       "    <tr>\n",
       "      <th>2017-07-17</th>\n",
       "      <td>228.042862</td>\n",
       "      <td>9.36</td>\n",
       "      <td>223.184069</td>\n",
       "      <td>218.365086</td>\n",
       "      <td>4.818982</td>\n",
       "      <td>4.817227</td>\n",
       "      <td>1</td>\n",
       "      <td>0.005375</td>\n",
       "      <td>0.005375</td>\n",
       "    </tr>\n",
       "    <tr>\n",
       "      <th>2017-07-24</th>\n",
       "      <td>228.070602</td>\n",
       "      <td>10.29</td>\n",
       "      <td>223.935843</td>\n",
       "      <td>219.084014</td>\n",
       "      <td>4.851830</td>\n",
       "      <td>4.824148</td>\n",
       "      <td>1</td>\n",
       "      <td>0.000122</td>\n",
       "      <td>0.000122</td>\n",
       "    </tr>\n",
       "    <tr>\n",
       "      <th>2017-07-31</th>\n",
       "      <td>228.532455</td>\n",
       "      <td>10.03</td>\n",
       "      <td>224.643014</td>\n",
       "      <td>219.783898</td>\n",
       "      <td>4.859116</td>\n",
       "      <td>4.831141</td>\n",
       "      <td>1</td>\n",
       "      <td>0.002025</td>\n",
       "      <td>0.002025</td>\n",
       "    </tr>\n",
       "    <tr>\n",
       "      <th>2017-08-07</th>\n",
       "      <td>225.493454</td>\n",
       "      <td>15.51</td>\n",
       "      <td>224.773851</td>\n",
       "      <td>220.206828</td>\n",
       "      <td>4.567023</td>\n",
       "      <td>4.778318</td>\n",
       "      <td>0</td>\n",
       "      <td>-0.013298</td>\n",
       "      <td>-0.000000</td>\n",
       "    </tr>\n",
       "  </tbody>\n",
       "</table>\n",
       "</div>"
      ],
      "text/plain": [
       "            SPY Adj Close  VIX Adj Close       12EMA       26EMA      MACD  \\\n",
       "Date                                                                         \n",
       "2017-07-10     226.823593           9.51  222.300652  217.590864  4.709787   \n",
       "2017-07-17     228.042862           9.36  223.184069  218.365086  4.818982   \n",
       "2017-07-24     228.070602          10.29  223.935843  219.084014  4.851830   \n",
       "2017-07-31     228.532455          10.03  224.643014  219.783898  4.859116   \n",
       "2017-08-07     225.493454          15.51  224.773851  220.206828  4.567023   \n",
       "\n",
       "              Signal  Position  SPY returns       P&L  \n",
       "Date                                                   \n",
       "2017-07-10  4.816789         0     0.014249  0.000000  \n",
       "2017-07-17  4.817227         1     0.005375  0.005375  \n",
       "2017-07-24  4.824148         1     0.000122  0.000122  \n",
       "2017-07-31  4.831141         1     0.002025  0.002025  \n",
       "2017-08-07  4.778318         0    -0.013298 -0.000000  "
      ]
     },
     "execution_count": 6,
     "metadata": {},
     "output_type": "execute_result"
    }
   ],
   "source": [
    "train = strategy(dftrain)\n",
    "train.tail()"
   ]
  },
  {
   "cell_type": "code",
   "execution_count": 13,
   "id": "da956558",
   "metadata": {},
   "outputs": [
    {
     "name": "stdout",
     "output_type": "stream",
     "text": [
      "The average of SPY returns was 0.0016717361597334134\n",
      "The average of our strategy P&L was 0.0021490008029238627\n"
     ]
    }
   ],
   "source": [
    "print(\"The average of SPY returns was\", train['SPY returns'].rolling(26).mean().mean())\n",
    "print(\"The average of our strategy P&L was\", train['P&L'].rolling(26).mean().mean())"
   ]
  },
  {
   "cell_type": "code",
   "execution_count": 12,
   "id": "304b1d3d",
   "metadata": {},
   "outputs": [
    {
     "name": "stdout",
     "output_type": "stream",
     "text": [
      "The average volatilty of SPY returns was 0.022791708502451453\n",
      "The average volatilty of our strategy was 0.012693169353859836\n"
     ]
    }
   ],
   "source": [
    "print(\"The average volatilty of SPY returns was\", train['SPY returns'].rolling(26).std().mean())\n",
    "print(\"The average volatilty of our strategy was\", train['P&L'].rolling(26).std().mean())"
   ]
  },
  {
   "cell_type": "markdown",
   "id": "db6a0bc6",
   "metadata": {},
   "source": [
    "### Step 4\n",
    "We have a better Sharpe ratio (unannualized) than the S&P 500. The graph shows that this is largely because we are resitant to recessions. "
   ]
  },
  {
   "cell_type": "code",
   "execution_count": 15,
   "id": "3bebd666",
   "metadata": {},
   "outputs": [
    {
     "name": "stdout",
     "output_type": "stream",
     "text": [
      "training dataset Strategy sharpe ratio (unannualized): 0.1479653689335053\n",
      "testing datatset SPY sharpe ratio (unannualized): 0.06539972063692864\n"
     ]
    }
   ],
   "source": [
    "print(\"training dataset Strategy sharpe ratio (unannualized):\", train['P&L'].mean()/train['P&L'].std())\n",
    "print(\"testing datatset SPY sharpe ratio (unannualized):\", train['SPY returns'].mean()/train['SPY returns'].std())"
   ]
  },
  {
   "cell_type": "code",
   "execution_count": 8,
   "id": "3584673e",
   "metadata": {},
   "outputs": [
    {
     "data": {
      "text/plain": [
       "<AxesSubplot:xlabel='Date'>"
      ]
     },
     "execution_count": 8,
     "metadata": {},
     "output_type": "execute_result"
    },
    {
     "data": {
      "image/png": "[encoded data removed]",
      "text/plain": [
       "<Figure size 432x288 with 1 Axes>"
      ]
     },
     "metadata": {
      "needs_background": "light"
     },
     "output_type": "display_data"
    }
   ],
   "source": [
    "pnl = pd.DataFrame({'SPY':train['SPY returns'],\n",
    "                   'Strategy':train['P&L']})\n",
    "pnl.cumsum().plot()"
   ]
  }
 ],
 "metadata": {
  "kernelspec": {
   "display_name": "Python 3 (ipykernel)",
   "language": "python",
   "name": "python3"
  },
  "language_info": {
   "codemirror_mode": {
    "name": "ipython",
    "version": 3
   },
   "file_extension": ".py",
   "mimetype": "text/x-python",
   "name": "python",
   "nbconvert_exporter": "python",
   "pygments_lexer": "ipython3",
   "version": "3.9.7"
  }
 },
 "nbformat": 4,
 "nbformat_minor": 5
}
